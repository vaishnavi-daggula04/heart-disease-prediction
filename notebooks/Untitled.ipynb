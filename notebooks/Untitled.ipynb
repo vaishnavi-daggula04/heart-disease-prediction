{
 "cells": [
  {
   "cell_type": "code",
   "execution_count": 4,
   "id": "1df33c7b-2936-4c54-89fa-6a9dc1996534",
   "metadata": {},
   "outputs": [
    {
     "name": "stdout",
     "output_type": "stream",
     "text": [
      "Column names: Index(['age', 'sex', 'cp', 'trestbps', 'chol', 'fbs', 'restecg', 'thalach',\n",
      "       'exang', 'oldpeak', 'slope', 'ca', 'thal', 'condition'],\n",
      "      dtype='object')\n",
      "   age  sex  cp  trestbps  chol  fbs  restecg  thalach  exang  oldpeak  slope  \\\n",
      "0   69    1   0       160   234    1        2      131      0      0.1      1   \n",
      "1   69    0   0       140   239    0        0      151      0      1.8      0   \n",
      "2   66    0   0       150   226    0        0      114      0      2.6      2   \n",
      "3   65    1   0       138   282    1        2      174      0      1.4      1   \n",
      "4   64    1   0       110   211    0        2      144      1      1.8      1   \n",
      "\n",
      "   ca  thal  condition  \n",
      "0   1     0          0  \n",
      "1   2     0          0  \n",
      "2   0     0          0  \n",
      "3   1     0          1  \n",
      "4   0     0          0  \n",
      "Shape of X: (297, 13)\n",
      "Shape of y: (297,)\n"
     ]
    }
   ],
   "source": [
    "import pandas as pd\n",
    "import os\n",
    "\n",
    "# Load your dataset (correct path with forward slashes)\n",
    "data = pd.read_csv(\"C:/Users/vaish/Desktop/heartdiseaseprediction/data/heart_cleveland_upload.csv\")\n",
    "\n",
    "# Show all column names to confirm the correct target column\n",
    "print(\"Column names:\", data.columns)\n",
    "\n",
    "# If you're not sure which is the target, view a few rows\n",
    "print(data.head())\n",
    "\n",
    "# Assuming the target column is named 'condition' (update if different)\n",
    "# Example: If target is 'condition', use this:\n",
    "X = data.drop(\"condition\", axis=1)\n",
    "y = data[\"condition\"]\n",
    "\n",
    "print(\"Shape of X:\", X.shape)\n",
    "print(\"Shape of y:\", y.shape)\n"
   ]
  },
  {
   "cell_type": "code",
   "execution_count": null,
   "id": "5590815e-30bb-4c5f-b08a-0a2000d75fb4",
   "metadata": {},
   "outputs": [],
   "source": []
  },
  {
   "cell_type": "code",
   "execution_count": null,
   "id": "3b23cc84-141c-4f03-a9c0-de2e2c059621",
   "metadata": {},
   "outputs": [],
   "source": []
  }
 ],
 "metadata": {
  "kernelspec": {
   "display_name": "Python 3 (ipykernel)",
   "language": "python",
   "name": "python3"
  },
  "language_info": {
   "codemirror_mode": {
    "name": "ipython",
    "version": 3
   },
   "file_extension": ".py",
   "mimetype": "text/x-python",
   "name": "python",
   "nbconvert_exporter": "python",
   "pygments_lexer": "ipython3",
   "version": "3.13.3"
  }
 },
 "nbformat": 4,
 "nbformat_minor": 5
}
